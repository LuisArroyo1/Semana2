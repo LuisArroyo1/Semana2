{
  "nbformat": 4,
  "nbformat_minor": 0,
  "metadata": {
    "colab": {
      "name": "Sesion10.ipynb",
      "provenance": [],
      "collapsed_sections": [],
      "authorship_tag": "ABX9TyNWCICwrMu2sxpj67HiFtDl",
      "include_colab_link": true
    },
    "kernelspec": {
      "name": "python3",
      "display_name": "Python 3"
    },
    "language_info": {
      "name": "python"
    }
  },
  "cells": [
    {
      "cell_type": "markdown",
      "metadata": {
        "id": "view-in-github",
        "colab_type": "text"
      },
      "source": [
        "<a href=\"https://colab.research.google.com/github/LuisArroyo1/Semana2/blob/main/TrabajoParcial/Sesion10.ipynb\" target=\"_parent\"><img src=\"https://colab.research.google.com/assets/colab-badge.svg\" alt=\"Open In Colab\"/></a>"
      ]
    },
    {
      "cell_type": "code",
      "metadata": {
        "colab": {
          "base_uri": "https://localhost:8080/"
        },
        "id": "0jKOj8Txe5NV",
        "outputId": "fd798d1c-e47f-4178-b2f2-f9371c30f1b7"
      },
      "source": [
        "%%writefile Cola.cpp\n",
        "#include <iostream>\n",
        "#include <string>\n",
        "#include <functional>\n",
        "using namespace std;\n",
        "template <typename T>\n",
        "struct Node{\n",
        "    T value;\n",
        "    Node<T>* next;\n",
        "    Node<T>* back;\n",
        "    Node(T v, Node* n=nullptr, Node* b=nullptr):value(v),next(n),back(b){}    \n",
        "};\n",
        "\n",
        "template <class T>\n",
        "class Cola{\n",
        "    private:\n",
        "      Node<T>* inicio;\n",
        "      Node<T>* fin;\n",
        "      unsigned long size;\n",
        "      function<void(T)>show;\n",
        "    public:\n",
        "    Cola(){\n",
        "        this->show=show;\n",
        "        inicio=fin=nullptr;\n",
        "        size=0;\n",
        "    }\n",
        "    void front(){\n",
        "        //if(inicio!=nullptr)\n",
        "        //cout<<inicio->value<<endl;     \n",
        "        show(inicio->value);\n",
        "    }\n",
        "     void front(function<void(T)>show){\n",
        "       this->show=show;\n",
        "        show(inicio->value);\n",
        "    }\n",
        "    void push(T v){\n",
        "        Node<T>* nuevo = new Node<T>(v);\n",
        "       if(size==0)\n",
        "          {inicio=fin=nuevo;\n",
        "          ++size;}\n",
        "      else{\n",
        "            fin->next=nuevo;\n",
        "           nuevo->back=fin;\n",
        "            fin=nuevo;\n",
        "            ++size;\n",
        "          }\n",
        "    }\n",
        "    void pop(){\n",
        "        if(size==0){return;}\n",
        "        else if(size==1){\n",
        "            delete inicio;\n",
        "            inicio=fin=nullptr;\n",
        "        }\n",
        "        else{\n",
        "            Node<T>*aux=inicio;\n",
        "             inicio=inicio->next;\n",
        "             delete aux;\n",
        "             inicio->back=nullptr;\n",
        "        }\n",
        "        --size;\n",
        "    }\n",
        "\n",
        "};\n",
        "class Paciente{\n",
        "    string nombre;\n",
        "    string apellido;\n",
        "    short edad;\n",
        "    public:\n",
        "    Paciente(string nombre=\"\",string apellido=\"\",short edad=20){\n",
        "        this->nombre=nombre;\n",
        "        this->apellido=apellido;\n",
        "        this->edad=edad;\n",
        "    }\n",
        "    void mostrar(){cout<<nombre<<\" \"<<apellido;}\n",
        "    string toString(){return nombre+\" \"+apellido+\" \"+to_string(edad)+\"\\n\";}\n",
        "};\n",
        "int main(){\n",
        "    auto show=[](Paciente a)->void{cout<<a.toString();};\n",
        "    Cola<Paciente>pacientes;\n",
        "    for(size_t i=0;i<10;++i){\n",
        "        pacientes.push(Paciente(\"Luis\",\"Arroyo\"));\n",
        "    }\n",
        "    pacientes.front(show);\n",
        "    //pacientes.pop();\n",
        "    //pacientes.front();\n",
        "    return 0;\n",
        "}"
      ],
      "execution_count": null,
      "outputs": [
        {
          "output_type": "stream",
          "name": "stdout",
          "text": [
            "Overwriting Cola.cpp\n"
          ]
        }
      ]
    },
    {
      "cell_type": "code",
      "metadata": {
        "colab": {
          "base_uri": "https://localhost:8080/"
        },
        "id": "CI9NLL0PkgQ1",
        "outputId": "77ecf858-63fd-4b46-da4d-73a65b5c671c"
      },
      "source": [
        "!g++ Cola.cpp && ./a.out"
      ],
      "execution_count": null,
      "outputs": [
        {
          "output_type": "stream",
          "name": "stdout",
          "text": [
            "Luis Arroyo 20\n"
          ]
        }
      ]
    },
    {
      "cell_type": "code",
      "metadata": {
        "colab": {
          "base_uri": "https://localhost:8080/"
        },
        "id": "ib4CFx-Ukkov",
        "outputId": "56c38883-c8c1-4c11-e338-b0c9d8b2c891"
      },
      "source": [
        "%%writefile pilas.cpp\n",
        "#include <stack>\n",
        "#include <iostream>\n",
        "using namespace std;\n",
        "class Paciente{\n",
        "\n",
        "    string nombre;\n",
        "    string apellido;\n",
        "    short edad;\n",
        "    public:\n",
        "    Paciente(string nombre=\"\",string apellido=\"\",short edad=20){\n",
        "        this->nombre=nombre;\n",
        "        this->apellido=apellido;\n",
        "        this->edad=edad;\n",
        "    }\n",
        "    string toString(){return nombre+\" \"+apellido+\" \"+to_string(edad)+\"\\n\";}\n",
        "};\n",
        "\n",
        "void ejemplo1(){\n",
        "    stack<int> enteros;\n",
        "    for(size_t i=0;i<100;++i)\n",
        "      enteros.push(i);\n",
        "    while(enteros.size()>0)\n",
        "      {cout<<enteros.top()<<\" \";\n",
        "       enteros.pop();\n",
        "      }\n",
        "}\n",
        "void ejemplo2(){\n",
        "    stack<Paciente> pacientes;\n",
        "    for(size_t i=0;i<10;++i){\n",
        "        pacientes.push(Paciente(\"Ana\",\"Cedron\",20+i));\n",
        "    }\n",
        "    auto l1=[](Paciente p){cout<<p.toString();};\n",
        "    for(size_t i=0;i<10;++i){\n",
        "      Paciente p=pacientes.top(); \n",
        "      cout<<p.toString();\n",
        "      pacientes.pop();\n",
        "    }\n",
        "}\n",
        "int main(){\n",
        "    ejemplo2();\n",
        "}"
      ],
      "execution_count": null,
      "outputs": [
        {
          "output_type": "stream",
          "name": "stdout",
          "text": [
            "Overwriting pilas.cpp\n"
          ]
        }
      ]
    },
    {
      "cell_type": "code",
      "metadata": {
        "colab": {
          "base_uri": "https://localhost:8080/"
        },
        "id": "ocu5HMHKtCLW",
        "outputId": "31820f80-9e89-45e3-9997-71fcf6a664a8"
      },
      "source": [
        "!g++ pilas.cpp && ./a.out"
      ],
      "execution_count": null,
      "outputs": [
        {
          "output_type": "stream",
          "name": "stdout",
          "text": [
            "Ana Cedron 29\n",
            "Ana Cedron 28\n",
            "Ana Cedron 27\n",
            "Ana Cedron 26\n",
            "Ana Cedron 25\n",
            "Ana Cedron 24\n",
            "Ana Cedron 23\n",
            "Ana Cedron 22\n",
            "Ana Cedron 21\n",
            "Ana Cedron 20\n"
          ]
        }
      ]
    },
    {
      "cell_type": "code",
      "metadata": {
        "id": "yC7qqb30tFbw"
      },
      "source": [
        ""
      ],
      "execution_count": null,
      "outputs": []
    }
  ]
}