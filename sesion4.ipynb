{
  "nbformat": 4,
  "nbformat_minor": 0,
  "metadata": {
    "colab": {
      "name": "sesion4.ipynb",
      "provenance": [],
      "authorship_tag": "ABX9TyMu+ZAyscNPJLHgqS5xFUK2",
      "include_colab_link": true
    },
    "kernelspec": {
      "name": "python3",
      "display_name": "Python 3"
    },
    "language_info": {
      "name": "python"
    }
  },
  "cells": [
    {
      "cell_type": "markdown",
      "metadata": {
        "id": "view-in-github",
        "colab_type": "text"
      },
      "source": [
        "<a href=\"https://colab.research.google.com/github/LuisArroyo1/Semana2/blob/main/sesion4.ipynb\" target=\"_parent\"><img src=\"https://colab.research.google.com/assets/colab-badge.svg\" alt=\"Open In Colab\"/></a>"
      ]
    },
    {
      "cell_type": "markdown",
      "metadata": {
        "id": "KiZsf09yQVvl"
      },
      "source": [
        "Contenido\n",
        "1. Manejo de Archivos\n",
        "2. Lambdas\n",
        "3. Recursividad"
      ]
    },
    {
      "cell_type": "markdown",
      "metadata": {
        "id": "UlpkM-SNQan-"
      },
      "source": [
        "# Archivos"
      ]
    },
    {
      "cell_type": "code",
      "metadata": {
        "colab": {
          "base_uri": "https://localhost:8080/"
        },
        "id": "NPfrhhY-QDCf",
        "outputId": "967b5056-2ef2-42aa-a781-0baa5692bfb5"
      },
      "source": [
        "%%writefile archivos.cpp\n",
        "#include <iostream>\n",
        "#include <fstream>\n",
        "#include <string>//para usar el getline\n",
        "#include <sstream>\n",
        "using namespace std;\n",
        "void conIostream(){\n",
        "    int a;\n",
        "    cout<<\"Ingrese nro\";//archivo de salida\n",
        "    cin>>a;//archivo de entrada\n",
        "}\n",
        "void conFstream(){\n",
        "    string resultado;\n",
        "    fstream archivo(\"texto.txt\",ios::out);\n",
        "    archivo<<\"Hola mundo\";\n",
        "    archivo>>resultado;\n",
        "    archivo.close();\n",
        "}\n",
        "void conOfstream(){\n",
        "    ofstream archivo(\"contador.txt\");//ofstream archivo; archivo.open(\"texto.txt\")\n",
        "    for(size_t i=0;i<100;++i){\n",
        "        archivo<<i<<endl;\n",
        "    }\n",
        "    archivo.close();\n",
        "}\n",
        "void conIfstream(){\n",
        "    int nro;\n",
        "    int c=0;\n",
        "    ifstream archivo(\"contador.txt\");\n",
        "    while(archivo>>nro){\n",
        "      cout<<nro;  \n",
        "      c++;\n",
        "    }\n",
        "    cout<<\"\\n\"<<c;\n",
        "    archivo.close();\n",
        "    \n",
        "}\n",
        "void lectura(){\n",
        "    string nombre;\n",
        "    string apellido;\n",
        "    int edad;\n",
        "    string correo,aux;\n",
        "    string temporal;\n",
        "    fstream archivo;\n",
        "    archivo.open(\"prueba.txt\",ios::in);\n",
        "    //while(archivo>>temporal)\n",
        "    //cout<<temporal<<endl;\n",
        "    while(getline(archivo,temporal)){\n",
        "        stringstream archMemoria(temporal);\n",
        "        getline(archMemoria,nombre,',');\n",
        "        getline(archMemoria,apellido,',');\n",
        "        getline(archMemoria,aux,',');\n",
        "        edad=stoi(aux);\n",
        "        getline(archMemoria,correo);\n",
        "        cout<<nombre<<\" \"<<apellido<<\" \"<<edad<<\" \"<<correo<<endl;\n",
        "        \n",
        "    }\n",
        "    archivo.close();\n",
        "}\n",
        "void lectura2(){\n",
        "    string nombre;\n",
        "    string apellido;\n",
        "    string edad;\n",
        "    string correo,aux;\n",
        "    string temporal;\n",
        "    fstream archivo;\n",
        "    archivo.open(\"prueba.txt\",ios::in);\n",
        "    //while(archivo>>temporal)\n",
        "    //cout<<temporal<<endl;\n",
        "    while(archivo>>nombre>>aux>>apellido>>aux>>edad>>aux>>correo){\n",
        "       \n",
        "        cout<<nombre<<\" \"<<apellido<<\" \"<<edad<<\" \"<<correo<<endl;\n",
        "        \n",
        "    }\n",
        "    archivo.close();\n",
        "}\n",
        "int main(){\n",
        "   lectura();\n",
        "\n",
        "    return 0;\n",
        "}"
      ],
      "execution_count": 118,
      "outputs": [
        {
          "output_type": "stream",
          "text": [
            "Overwriting archivos.cpp\n"
          ],
          "name": "stdout"
        }
      ]
    },
    {
      "cell_type": "code",
      "metadata": {
        "colab": {
          "base_uri": "https://localhost:8080/"
        },
        "id": "z8-mZlZ-SFQ0",
        "outputId": "2140b3c8-f699-4e71-ad11-5111da8ff1d4"
      },
      "source": [
        "!g++ archivos.cpp && ./a.out"
      ],
      "execution_count": 119,
      "outputs": [
        {
          "output_type": "stream",
          "text": [
            "walter   cueva  38  waltercueva@gmail.com \n",
            "Mauricio   Tuesta 19  correo@gmail.com \n"
          ],
          "name": "stdout"
        }
      ]
    },
    {
      "cell_type": "markdown",
      "metadata": {
        "id": "x3mLTqnPdYke"
      },
      "source": [
        "# Lambdas\n"
      ]
    },
    {
      "cell_type": "code",
      "metadata": {
        "colab": {
          "base_uri": "https://localhost:8080/"
        },
        "id": "SyJNaiHtdbQs",
        "outputId": "3cc51b9a-15cc-4648-fcb6-18dd18074193"
      },
      "source": [
        "%%writefile lambdas.cpp\n",
        "#include <iostream>\n",
        "#include <functional>\n",
        "using namespace std;\n",
        "void operacion(function<float(short,short)>funcion){\n",
        "    int a=10;\n",
        "    int b=5;\n",
        "    cout<<funcion(a,b)<<endl;\n",
        "}\n",
        "void operacion(int a,int b,function<float(short,short)>funcion){\n",
        "    \n",
        "    cout<<funcion(a,b)<<endl;\n",
        "}\n",
        "void ejemplo1(){\n",
        "    int a=100;\n",
        "    int b=50;\n",
        "    auto suma=[](short a, short b){return a+b;};\n",
        "    auto resta=[](short a, short b){return a-b;};\n",
        "    auto multiplicacion=[](short a, short b){return a*b;};\n",
        "    auto division=[](short a, short b){return a/b;};\n",
        "    operacion(suma);\n",
        "    operacion(resta);\n",
        "    operacion(multiplicacion);\n",
        "    operacion(division);\n",
        "    operacion(a,b,suma);\n",
        "    operacion(a,b,resta);\n",
        "    operacion(a,b,multiplicacion);\n",
        "    operacion(a,b,division);\n",
        "}\n",
        "\n",
        "namespace Ejemplo2{\n",
        "    \n",
        "struct Persona{\n",
        "    string nombre;\n",
        "    unsigned short edad;\n",
        "    string correo;\n",
        "};\n",
        "void mostrar(Persona p,function<void(Persona)>f){\n",
        "    f(p);\n",
        "}\n",
        "\n",
        "void ejemplo2(){\n",
        "    Persona p;\n",
        "    p.nombre=\"Luis\";\n",
        "    p.edad=21;\n",
        "    p.correo=\"correo@upc.edu.pe\";\n",
        "    auto horizontal=[](Persona p){cout<<p.nombre<<\" \"<<p.edad<<\" \"<<p.correo;};\n",
        "    auto nombre=[](Persona p){cout<<p.nombre<<endl;};\n",
        "    auto edad=[](Persona p){cout<<p.edad<<endl;};\n",
        "    auto correo=[](Persona p){cout<<p.correo<<endl;};\n",
        "    mostrar(p,nombre);\n",
        "}\n",
        "}\n",
        "int main(){\n",
        "    Ejemplo2::ejemplo2();\n",
        "    return 0;\n",
        "}"
      ],
      "execution_count": 115,
      "outputs": [
        {
          "output_type": "stream",
          "text": [
            "Overwriting lambdas.cpp\n"
          ],
          "name": "stdout"
        }
      ]
    },
    {
      "cell_type": "code",
      "metadata": {
        "colab": {
          "base_uri": "https://localhost:8080/"
        },
        "id": "RnfrA4Cyf0Qg",
        "outputId": "4a665981-6c93-4dd8-82c0-28ac7a9ba3ad"
      },
      "source": [
        "!g++ lambdas.cpp && ./a.out"
      ],
      "execution_count": 116,
      "outputs": [
        {
          "output_type": "stream",
          "text": [
            "Luis\n"
          ],
          "name": "stdout"
        }
      ]
    },
    {
      "cell_type": "code",
      "metadata": {
        "id": "oL2P_eR4gZyd"
      },
      "source": [
        ""
      ],
      "execution_count": null,
      "outputs": []
    }
  ]
}