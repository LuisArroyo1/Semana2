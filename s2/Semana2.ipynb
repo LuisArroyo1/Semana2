{
  "nbformat": 4,
  "nbformat_minor": 0,
  "metadata": {
    "colab": {
      "name": "Semana2.ipynb",
      "provenance": [],
      "collapsed_sections": [
        "VdrpnZh--Tee"
      ],
      "authorship_tag": "ABX9TyP5snqt2+zhUHAenjz9PV0e",
      "include_colab_link": true
    },
    "kernelspec": {
      "name": "python3",
      "display_name": "Python 3"
    },
    "language_info": {
      "name": "python"
    }
  },
  "cells": [
    {
      "cell_type": "markdown",
      "metadata": {
        "id": "view-in-github",
        "colab_type": "text"
      },
      "source": [
        "<a href=\"https://colab.research.google.com/github/LuisArroyo1/Semana2/blob/main/s2/Semana2.ipynb\" target=\"_parent\"><img src=\"https://colab.research.google.com/assets/colab-badge.svg\" alt=\"Open In Colab\"/></a>"
      ]
    },
    {
      "cell_type": "markdown",
      "metadata": {
        "id": "VdrpnZh--Tee"
      },
      "source": [
        "# **Temario**\n",
        "1. Colab-Markdown\n",
        "2. Compilación de c++ desde terminal\n",
        "3. Templates\n",
        "4. Recursividad"
      ]
    },
    {
      "cell_type": "code",
      "metadata": {
        "colab": {
          "base_uri": "https://localhost:8080/"
        },
        "id": "No-z7DGc7zGI",
        "outputId": "593e38c6-ccc5-448f-8f4b-6120fa92ea9b"
      },
      "source": [
        "%%writefile programa1.cpp\n",
        "#include <iostream>\n",
        "\n",
        "using namespace std;\n",
        "int main(){\n",
        "  cout<<\"Introduccion a Colab\";\n",
        "  return 0;\n",
        "}\n"
      ],
      "execution_count": null,
      "outputs": [
        {
          "output_type": "stream",
          "text": [
            "Overwriting programa1.cpp\n"
          ],
          "name": "stdout"
        }
      ]
    },
    {
      "cell_type": "code",
      "metadata": {
        "id": "9lG_mTJf-8JM"
      },
      "source": [
        "#compilando el codigo(crear el programa objeto-a.out)\n",
        "!g++ programa1.cpp"
      ],
      "execution_count": null,
      "outputs": []
    },
    {
      "cell_type": "code",
      "metadata": {
        "colab": {
          "base_uri": "https://localhost:8080/"
        },
        "id": "x4HR5Vam_tAn",
        "outputId": "2a1f5cad-0953-4b2f-da50-593cfbde93ab"
      },
      "source": [
        "#ejecutar el binario\n",
        "!./a.out"
      ],
      "execution_count": null,
      "outputs": [
        {
          "output_type": "stream",
          "text": [
            "Introduccion a Colab"
          ],
          "name": "stdout"
        }
      ]
    },
    {
      "cell_type": "code",
      "metadata": {
        "colab": {
          "base_uri": "https://localhost:8080/"
        },
        "id": "2khFhRv_AOYI",
        "outputId": "6b5312d3-0e19-48d5-c484-27cc838c8850"
      },
      "source": [
        "#en una sola linea\n",
        "!g++ programa1.cpp && ./a.out"
      ],
      "execution_count": null,
      "outputs": [
        {
          "output_type": "stream",
          "text": [
            "Introduccion a Colab"
          ],
          "name": "stdout"
        }
      ]
    },
    {
      "cell_type": "code",
      "metadata": {
        "colab": {
          "base_uri": "https://localhost:8080/"
        },
        "id": "iVRpqYtbAnyO",
        "outputId": "7314f248-9ed0-448a-f0db-151acc5310ab"
      },
      "source": [
        "#renombrando la salida\n",
        "!g++ programa1.cpp -o upc.exe && ./upc.exe"
      ],
      "execution_count": null,
      "outputs": [
        {
          "output_type": "stream",
          "text": [
            "Introduccion a Colab"
          ],
          "name": "stdout"
        }
      ]
    },
    {
      "cell_type": "code",
      "metadata": {
        "colab": {
          "base_uri": "https://localhost:8080/"
        },
        "id": "waSi-drjA-TP",
        "outputId": "ebd67154-ee70-400b-841e-b2f978b7f1c0"
      },
      "source": [
        "#renombrando la salida\n",
        "# !g++ -std=c++11 programa1.cpp -o upc.exe && ./upc.exe\n",
        "# !g++ -std=c++1y programa1.cpp -o upc.exe && ./upc.exe\n",
        "!g++ -std=c++1z programa1.cpp -o upc.exe && ./upc.exe"
      ],
      "execution_count": null,
      "outputs": [
        {
          "output_type": "stream",
          "text": [
            "Introduccion a Colab"
          ],
          "name": "stdout"
        }
      ]
    },
    {
      "cell_type": "code",
      "metadata": {
        "id": "hLTQRLxbCW9f"
      },
      "source": [
        ""
      ],
      "execution_count": null,
      "outputs": []
    },
    {
      "cell_type": "markdown",
      "metadata": {
        "id": "ZOosITurD1Pk"
      },
      "source": [
        "# Templates\n",
        "\n",
        "\n",
        "\n",
        "\n"
      ]
    },
    {
      "cell_type": "markdown",
      "metadata": {
        "id": "Y2om2nqhJm7v"
      },
      "source": [
        "Forma anterior repetitivo en estructura"
      ]
    },
    {
      "cell_type": "code",
      "metadata": {
        "colab": {
          "base_uri": "https://localhost:8080/"
        },
        "id": "BovrAFlZEOZG",
        "outputId": "2ffef69e-cac8-40ac-e419-ce9ad49fcc99"
      },
      "source": [
        "%%writefile programa2.cpp\n",
        "#include <iostream>\n",
        "using std::cout;\n",
        "\n",
        "typedef unsigned long long ull;\n",
        "typedef long long ll;\n",
        "class NumeroP{\n",
        "    ull long long e;\n",
        "    unsigned short d;\n",
        "    public:\n",
        "    NumeroP(ull e=0, ull d=0):e(e),d(d){}\n",
        "    ull getE(){return e;}\n",
        "    void setE(ull e){this->e=e;}\n",
        "    ull getD(){return d;}\n",
        "    void setD(ull d){this->d=d;}\n",
        "    void add(NumeroP n){\n",
        "        e+=n.getE();\n",
        "        d+=n.getD();\n",
        "    }\n",
        "    void print(){\n",
        "        cout<<e<<\"\\t\"<<d<<\"\\n\";\n",
        "    }\n",
        "};\n",
        "class NumeroN{\n",
        "    ll long long e;\n",
        "    unsigned short d;\n",
        "    public:\n",
        "    NumeroN(ll e=0, ll d=0):e(e),d(d){}\n",
        "    ll getE(){return e;}\n",
        "    void setE(ll e){this->e=e;}\n",
        "    ll getD(){return d;}\n",
        "    void setD(ll d){this->d=d;}\n",
        "    void add(NumeroN n){\n",
        "        e+=n.getE();\n",
        "        d+=n.getD();\n",
        "    }\n",
        "    void print(){\n",
        "        cout<<e<<\"\\t\"<<d<<\"\\n\";\n",
        "    }\n",
        "};\n",
        "int main(){\n",
        "    NumeroP n1;\n",
        "    NumeroP n2(10);\n",
        "    NumeroP n3(10,20);\n",
        "    n1.print();\n",
        "    n2.print();\n",
        "    n3.print();\n",
        "    NumeroN nn1;\n",
        "    NumeroN nn2(10);\n",
        "    NumeroN nn3(10,20);\n",
        "    nn1.print();\n",
        "    nn2.print();\n",
        "    nn3.print();\n",
        "\n",
        "    return 0;\n",
        "}"
      ],
      "execution_count": 43,
      "outputs": [
        {
          "output_type": "stream",
          "text": [
            "Overwriting programa2.cpp\n"
          ],
          "name": "stdout"
        }
      ]
    },
    {
      "cell_type": "code",
      "metadata": {
        "colab": {
          "base_uri": "https://localhost:8080/"
        },
        "id": "c63H04IxJv_g",
        "outputId": "0ff72508-a05a-4d2a-d8dc-3a6b8cbf1a45"
      },
      "source": [
        "%%writefile programa3.cpp\n",
        "#include <iostream>\n",
        "using std::cout;\n",
        "\n",
        "typedef unsigned long long ull;\n",
        "typedef long long ll;\n",
        "template <class T>\n",
        "class Numero{\n",
        "    T e;\n",
        "    T d;\n",
        "    public:\n",
        "    Numero(T e=0, T d=0):e(e),d(d){}\n",
        "    T getE(){return e;}\n",
        "    void setE(T e){this->e=e;}\n",
        "    T getD(){return d;}\n",
        "    void setD(T d){this->d=d;}\n",
        "    void add(Numero n){\n",
        "        e+=n.getE();\n",
        "        d+=n.getD();\n",
        "    }\n",
        "    void print(){\n",
        "        cout<<e<<\"\\t\"<<d<<\"\\n\";\n",
        "    }\n",
        "};\n",
        "\n",
        "int main(){\n",
        "    Numero<ull> n1(10,20);\n",
        "    Numero<ll> n2(-10,-20);\n",
        "    Numero<int> n3(10,20);\n",
        "    Numero<double> n4(10,20);\n",
        "    Numero<short> n5(10,20);\n",
        "    Numero<float> n6(10.3,20.4);\n",
        "    n1.print();\n",
        "    n2.print();\n",
        "    n3.print();\n",
        "    n4.print();\n",
        "    n5.print();\n",
        "    n6.print();\n",
        "    \n",
        "    \n",
        "    return 0;\n",
        "}"
      ],
      "execution_count": 53,
      "outputs": [
        {
          "output_type": "stream",
          "text": [
            "Overwriting programa3.cpp\n"
          ],
          "name": "stdout"
        }
      ]
    },
    {
      "cell_type": "code",
      "metadata": {
        "colab": {
          "base_uri": "https://localhost:8080/"
        },
        "id": "j_i-XrBgHk4w",
        "outputId": "eb09b834-3fc8-4e95-f185-8762864ed823"
      },
      "source": [
        "!g++ programa3.cpp -o upc3.exe && ./upc3.exe"
      ],
      "execution_count": 54,
      "outputs": [
        {
          "output_type": "stream",
          "text": [
            "10\t20\n",
            "-10\t-20\n",
            "10\t20\n",
            "10\t20\n",
            "10\t20\n",
            "10.3\t20.4\n"
          ],
          "name": "stdout"
        }
      ]
    },
    {
      "cell_type": "code",
      "metadata": {
        "colab": {
          "base_uri": "https://localhost:8080/"
        },
        "id": "I7kQzvDmNLNW",
        "outputId": "59dd6a03-7152-4846-ef5f-622d0ebb12f0"
      },
      "source": [
        "%%writefile templates.cpp\n",
        "\n",
        "#include <iostream>\n",
        "#include <string>\n",
        "using std::string;\n",
        "struct Enemy{\n",
        "    string name;\n",
        "    unsigned short points;\n",
        "    Enemy(string name=\" \",unsigned short points=0):name(name),points(points){}\n",
        "\n",
        "};\n",
        "class Weapon{\n",
        "  string model; \n",
        "  public:\n",
        "  Weapon(string model=\" \"):model(model){}  \n",
        "};\n",
        "class Leader{\n",
        "    string name;\n",
        "    public:\n",
        "    Leader(){}\n",
        "};\n",
        "template <class T>\n",
        "class Array{\n",
        "    T* arr;\n",
        "    unsigned short i;\n",
        "    public:\n",
        "    Array(){\n",
        "        arr=new T[10];\n",
        "        i=0;\n",
        "    }\n",
        "    void insert(T t)\n",
        "    {\n",
        "        if(i<10){\n",
        "            \n",
        "        arr[i]=t;\n",
        "        ++i;\n",
        "        }\n",
        "    }\n",
        "};\n",
        "int main(){\n",
        "    Array<Enemy> enemigos;\n",
        "    Array<Weapon> armas;\n",
        "    Array<Leader> personajes;\n",
        "    for(size_t i=0;i<10;++i){\n",
        "        enemigos.insert(Enemy(\"xyz\",i));\n",
        "        armas.insert(Weapon(\"mno\"));\n",
        "        personajes.insert(Leader());\n",
        "    }\n",
        "    \n",
        "}"
      ],
      "execution_count": 69,
      "outputs": [
        {
          "output_type": "stream",
          "text": [
            "Overwriting templates.cpp\n"
          ],
          "name": "stdout"
        }
      ]
    },
    {
      "cell_type": "code",
      "metadata": {
        "id": "PqO4mii0PEwZ"
      },
      "source": [
        "!g++ templates.cpp -o upc4.exe && ./upc4.exe"
      ],
      "execution_count": 70,
      "outputs": []
    }
  ]
}