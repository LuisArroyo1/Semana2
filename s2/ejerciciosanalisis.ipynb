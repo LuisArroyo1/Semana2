{
  "nbformat": 4,
  "nbformat_minor": 0,
  "metadata": {
    "colab": {
      "name": "ejerciciosanalisis.ipynb",
      "provenance": [],
      "collapsed_sections": [],
      "authorship_tag": "ABX9TyPn3mAiTILJrGHTNhYTbYij",
      "include_colab_link": true
    },
    "kernelspec": {
      "name": "python3",
      "display_name": "Python 3"
    },
    "language_info": {
      "name": "python"
    }
  },
  "cells": [
    {
      "cell_type": "markdown",
      "metadata": {
        "id": "view-in-github",
        "colab_type": "text"
      },
      "source": [
        "<a href=\"https://colab.research.google.com/github/LuisArroyo1/Semana2/blob/main/s2/ejerciciosanalisis.ipynb\" target=\"_parent\"><img src=\"https://colab.research.google.com/assets/colab-badge.svg\" alt=\"Open In Colab\"/></a>"
      ]
    },
    {
      "cell_type": "code",
      "metadata": {
        "colab": {
          "base_uri": "https://localhost:8080/"
        },
        "id": "2usUVR5LmQT8",
        "outputId": "2856e0f6-086e-4c9a-9fca-38c30ff73f63"
      },
      "source": [
        "int s = 0;\n",
        "double prom = 0;\n",
        "for (int i = 0; i < n; i++) {\n",
        "s = s + A[i];\n",
        "prom = s / (double) n;\n",
        "}\n",
        "printf(\"Suma:%d\\nProm:%d\", s, prom);\n"
      ],
      "execution_count": 6,
      "outputs": [
        {
          "output_type": "stream",
          "text": [
            "Overwriting programa1.cpp\n"
          ],
          "name": "stdout"
        }
      ]
    },
    {
      "cell_type": "markdown",
      "metadata": {
        "id": "cbyFj_ZVnUQ0"
      },
      "source": [
        "1ra fila: 1, 1 asignacion\n",
        "\n",
        "2da fila: 1, 1 asignacion\n",
        "\n",
        "3ra fila: 1+n(1+ interna + 2)+1\n",
        "\n",
        "interna= 1 acceso a arreglo, 1 operacion y 1 asignacion = 3\n",
        "\n",
        "1 inicio, 1 operacion y 1 cambio de dato\n",
        "\n",
        "estructura for = 1+n(9)+1\n",
        "\n",
        "7ma fila: 2 variables a imprimir\n",
        "\n",
        "Total: \n",
        "\n",
        "2+1+n(9)+2+1\n",
        "\n",
        "6+9n\n",
        "\n",
        "O(n)\n",
        "\n",
        "\n"
      ]
    },
    {
      "cell_type": "code",
      "metadata": {
        "id": "2KxHCcHkqXbK"
      },
      "source": [
        "int s = 0;\n",
        "double prom = 0;\n",
        "for (int i = 0; i < n; i++) {\n",
        "s = s + A[i];\n",
        "}\n",
        "prom = s / (double)n;\n",
        "printf(\"Suma:%d\\nProm:%d\", s, prom);\n"
      ],
      "execution_count": null,
      "outputs": []
    },
    {
      "cell_type": "markdown",
      "metadata": {
        "id": "vPjLk2pNqzoy"
      },
      "source": [
        "1ra fila: 1, 1 asignacion\n",
        "\n",
        "2da fila: 1, 1 asignacion\n",
        "\n",
        "3ra fila: 1+n(1+interna+2)\n",
        "\n",
        "interna: 3, 1 acceso a arreglo, 1 operacion de suma y 1 asginacion\n",
        "\n",
        "estructura for: 1+n(1+3+2)\n",
        "\n",
        "6ta fila: 3, 1 conversion de datos, 1 operacion de division y 1 asignacion\n",
        "\n",
        "7ma fila: 2, se imprimen 2 variables\n",
        "\n",
        "Total:\n",
        "\n",
        "1+1+1+n(1+3+2)+3+2\n",
        "\n",
        "8+n(6)\n",
        "\n",
        "O(n)"
      ]
    },
    {
      "cell_type": "code",
      "metadata": {
        "id": "CdqRYMISrth7"
      },
      "source": [
        "for (int i = 0; i < n - 1; i++) {\n",
        "    for (int k = i + 1; k < n; k++) {\n",
        "        if (vec[i] > vec[k]) {\n",
        "            int aux = vec[i];\n",
        "            vec[i] = vec[k];\n",
        "            vec[k] = aux;\n",
        "        }\n",
        "}"
      ],
      "execution_count": null,
      "outputs": []
    },
    {
      "cell_type": "markdown",
      "metadata": {
        "id": "sgBUaWwbr-yu"
      },
      "source": [
        "1er for: 1+(n-1)(1+interna1+2)\n",
        "\n",
        "interna1: 1+(n-1)(1+interna2+2)\n",
        "\n",
        "interna2: \n",
        "\n",
        "dentro del if: 2 accesos y 1 comparacion = 3\n",
        "\n",
        "1 acceso, 1 asignacion y 1 inicio\n",
        "\n",
        "2 accesos y 1 asignacion\n",
        "\n",
        "1 acceso y 1 asignacion\n",
        "\n",
        "1+(n-1)(1+(1+(n-1)(1+3+3+3+2+2))+2)\n",
        "\n",
        "1+(n-1)(1+(1+(n-1)(14))+2)\n",
        "\n",
        "1+(n-1)(1+(1+14n-14)+2)\n",
        "\n",
        "1+(n-1)(14n-11)\n",
        "\n",
        "1+(14n^2-11n-14n+11)\n",
        "\n",
        "14n^2-25n+12\n",
        "\n",
        "O(n^2)\n"
      ]
    },
    {
      "cell_type": "code",
      "metadata": {
        "id": "yXSwxtRRwT6A"
      },
      "source": [
        "int frec[101] = {0};\n",
        "for (int i = 0; i < n; i++) {\n",
        "frec[vec[i]]++;\n",
        "}\n",
        "int pos = 0;\n",
        "for (int i = 0; i < 101; i++) {\n",
        "for (int k = 0; k < frec[i]; k++) {\n",
        "vec[pos] = i;\n",
        "pos++;\n",
        "}\n",
        "}\n"
      ],
      "execution_count": null,
      "outputs": []
    },
    {
      "cell_type": "markdown",
      "metadata": {
        "id": "nonw3curwXmK"
      },
      "source": [
        "1ra fila: 1 asignacion, 1 inicio=2\n",
        "\n",
        "1er for: 1+n(1+interna1+2)\n",
        "\n",
        "interna1: frec[vec[i]]=frec[vec[i]]+1\n",
        "\n",
        "1 operacion,2 accesos, 1 asignacion y 2 accesos\n",
        "\n",
        "1er for = 1+n(1+6+2) = 1+n(9)\n",
        "\n",
        "5ta fila: 1 asignacion\n",
        "\n",
        "2do for: 1+101(1+interna2+2)\n",
        "\n",
        "interna 2: for3: 1+ n(1+interna3+2)\n",
        "\n",
        "interna3: 1 asignacion y 1 acceso\n",
        "\n",
        "1 suma y 1 asignacion\n",
        "\n",
        "Total:\n",
        "\n",
        "2+(1+n(9))+1+1+101(1+1+n(1+2+2+2)+2)\n",
        "\n",
        "5+9n+101(4+7n)\n",
        "\n",
        "5+9n+404+707n\n",
        "\n",
        "716n+409\n",
        "\n",
        "O(n)"
      ]
    }
  ]
}