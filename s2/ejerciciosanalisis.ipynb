{
  "nbformat": 4,
  "nbformat_minor": 0,
  "metadata": {
    "colab": {
      "name": "ejerciciosanalisis.ipynb",
      "provenance": [],
      "collapsed_sections": [],
      "authorship_tag": "ABX9TyMW/eBO8bcVogR0q6l6bkm6",
      "include_colab_link": true
    },
    "kernelspec": {
      "name": "python3",
      "display_name": "Python 3"
    },
    "language_info": {
      "name": "python"
    }
  },
  "cells": [
    {
      "cell_type": "markdown",
      "metadata": {
        "id": "view-in-github",
        "colab_type": "text"
      },
      "source": [
        "<a href=\"https://colab.research.google.com/github/LuisArroyo1/Semana2/blob/main/s2/ejerciciosanalisis.ipynb\" target=\"_parent\"><img src=\"https://colab.research.google.com/assets/colab-badge.svg\" alt=\"Open In Colab\"/></a>"
      ]
    },
    {
      "cell_type": "code",
      "metadata": {
        "colab": {
          "base_uri": "https://localhost:8080/"
        },
        "id": "2usUVR5LmQT8",
        "outputId": "2856e0f6-086e-4c9a-9fca-38c30ff73f63"
      },
      "source": [
        "int s = 0;\n",
        "double prom = 0;\n",
        "for (int i = 0; i < n; i++) {\n",
        "s = s + A[i];\n",
        "prom = s / (double) n;\n",
        "}\n",
        "printf(\"Suma:%d\\nProm:%d\", s, prom);\n"
      ],
      "execution_count": 6,
      "outputs": [
        {
          "output_type": "stream",
          "text": [
            "Overwriting programa1.cpp\n"
          ],
          "name": "stdout"
        }
      ]
    },
    {
      "cell_type": "markdown",
      "metadata": {
        "id": "cbyFj_ZVnUQ0"
      },
      "source": [
        "1ra fila: 1, 1 asignacion\n",
        "\n",
        "2da fila: 1, 1 asignacion\n",
        "\n",
        "3ra fila: 1+n(1+ interna + 2)\n",
        "\n",
        "interna= 1 acceso a arreglo, 1 operacion y 1 asignacion = 3\n",
        "\n",
        "estructura for = 1+n(6)\n",
        "\n",
        "7ma fila: 2 variables a imprimir\n",
        "\n",
        "Total: \n",
        "\n",
        "2+1+n(6)+2\n",
        "\n",
        "5+6n\n",
        "\n",
        "O(n)\n",
        "\n",
        "\n"
      ]
    },
    {
      "cell_type": "code",
      "metadata": {
        "id": "2KxHCcHkqXbK"
      },
      "source": [
        "int s = 0;\n",
        "double prom = 0;\n",
        "for (int i = 0; i < n; i++) {\n",
        "s = s + A[i];\n",
        "}\n",
        "prom = s / (double)n;\n",
        "printf(\"Suma:%d\\nProm:%d\", s, prom);\n"
      ],
      "execution_count": null,
      "outputs": []
    },
    {
      "cell_type": "markdown",
      "metadata": {
        "id": "vPjLk2pNqzoy"
      },
      "source": [
        "1ra fila: 1, 1 asignacion\n",
        "\n",
        "2da fila: 1, 1 asignacion\n",
        "\n",
        "3ra fila: 1+n(1+interna+2)\n",
        "\n",
        "interna: 3, 1 acceso a arreglo, 1 operacion de suma y 1 asginacion\n",
        "\n",
        "estructura for: 1+n(1+3+2)\n",
        "\n",
        "6ta fila: 3, 1 conversion de datos, 1 operacion de division y 1 asignacion\n",
        "\n",
        "7ma fila: 2, se imprimen 2 variables\n",
        "\n",
        "Total:\n",
        "\n",
        "1+1+1+n(1+3+2)+3+2\n",
        "\n",
        "8+n(6)\n",
        "\n",
        "O(n)"
      ]
    }
  ]
}