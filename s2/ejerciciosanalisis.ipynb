{
  "nbformat": 4,
  "nbformat_minor": 0,
  "metadata": {
    "colab": {
      "name": "ejerciciosanalisis.ipynb",
      "provenance": [],
      "collapsed_sections": [],
      "authorship_tag": "ABX9TyPAC/GLxkzC9+XhsckcTHwp",
      "include_colab_link": true
    },
    "kernelspec": {
      "name": "python3",
      "display_name": "Python 3"
    },
    "language_info": {
      "name": "python"
    }
  },
  "cells": [
    {
      "cell_type": "markdown",
      "metadata": {
        "id": "view-in-github",
        "colab_type": "text"
      },
      "source": [
        "<a href=\"https://colab.research.google.com/github/LuisArroyo1/Semana2/blob/main/s2/ejerciciosanalisis.ipynb\" target=\"_parent\"><img src=\"https://colab.research.google.com/assets/colab-badge.svg\" alt=\"Open In Colab\"/></a>"
      ]
    },
    {
      "cell_type": "code",
      "metadata": {
        "colab": {
          "base_uri": "https://localhost:8080/"
        },
        "id": "2usUVR5LmQT8",
        "outputId": "2856e0f6-086e-4c9a-9fca-38c30ff73f63"
      },
      "source": [
        "#EJERCICIO 1\n",
        "int s = 0;\n",
        "double prom = 0;\n",
        "for (int i = 0; i < n; i++) {\n",
        "s = s + A[i];\n",
        "prom = s / (double) n;\n",
        "}\n",
        "printf(\"Suma:%d\\nProm:%d\", s, prom);\n"
      ],
      "execution_count": 6,
      "outputs": [
        {
          "output_type": "stream",
          "text": [
            "Overwriting programa1.cpp\n"
          ],
          "name": "stdout"
        }
      ]
    },
    {
      "cell_type": "markdown",
      "metadata": {
        "id": "cbyFj_ZVnUQ0"
      },
      "source": [
        "2da fila: 1, 1 asignacion\n",
        "\n",
        "3ra fila: 1, 1 asignacion\n",
        "\n",
        "4ta fila: 1+n(1+ interna + 2)+1\n",
        "\n",
        "interna= 1 acceso a arreglo, 1 operacion y 1 asignacion = 3\n",
        "\n",
        "1 inicio, 1 operacion y 1 cambio de dato\n",
        "\n",
        "estructura for = 1+n(9)+1\n",
        "\n",
        "8va fila: 2 variables a imprimir\n",
        "\n",
        "Total: \n",
        "\n",
        "2+1+n(9)+2+1\n",
        "\n",
        "6+9n\n",
        "\n",
        "O(n)\n",
        "\n",
        "\n"
      ]
    },
    {
      "cell_type": "code",
      "metadata": {
        "id": "2KxHCcHkqXbK"
      },
      "source": [
        "#EJERCICIO 2\n",
        "int s = 0;\n",
        "double prom = 0;\n",
        "for (int i = 0; i < n; i++) {\n",
        "s = s + A[i];\n",
        "}\n",
        "prom = s / (double)n;\n",
        "printf(\"Suma:%d\\nProm:%d\", s, prom);\n"
      ],
      "execution_count": null,
      "outputs": []
    },
    {
      "cell_type": "markdown",
      "metadata": {
        "id": "vPjLk2pNqzoy"
      },
      "source": [
        "2da fila: 1, 1 asignacion\n",
        "\n",
        "3ra fila: 1, 1 asignacion\n",
        "\n",
        "4ta fila: 1+n(1+interna+2)\n",
        "\n",
        "interna: 3, 1 acceso a arreglo, 1 operacion de suma y 1 asginacion\n",
        "\n",
        "estructura for: 1+n(1+3+2)\n",
        "\n",
        "5ta fila: 3, 1 conversion de datos, 1 operacion de division y 1 asignacion\n",
        "\n",
        "6ta fila: 2, se imprimen 2 variables\n",
        "\n",
        "Total:\n",
        "\n",
        "1+1+1+n(1+3+2)+3+2\n",
        "\n",
        "8+n(6)\n",
        "\n",
        "O(n)"
      ]
    },
    {
      "cell_type": "code",
      "metadata": {
        "id": "CdqRYMISrth7"
      },
      "source": [
        "#EJERCICIO 3\n",
        "for (int i = 0; i < n - 1; i++) {\n",
        "    for (int k = i + 1; k < n; k++) {\n",
        "        if (vec[i] > vec[k]) {\n",
        "            int aux = vec[i];\n",
        "            vec[i] = vec[k];\n",
        "            vec[k] = aux;\n",
        "        }\n",
        "}"
      ],
      "execution_count": null,
      "outputs": []
    },
    {
      "cell_type": "markdown",
      "metadata": {
        "id": "sgBUaWwbr-yu"
      },
      "source": [
        "2da for: 1+(n-1)(1+interna1+2)\n",
        "\n",
        "interna1: 1+(n-1)(1+interna2+2)\n",
        "\n",
        "interna2: \n",
        "\n",
        "dentro del if: 2 accesos y 1 comparacion = 3\n",
        "\n",
        "1 acceso, 1 asignacion y 1 inicio\n",
        "\n",
        "2 accesos y 1 asignacion\n",
        "\n",
        "1 acceso y 1 asignacion\n",
        "\n",
        "1+(n-1)(1+(1+(n-1)(1+3+3+3+2+2))+2)\n",
        "\n",
        "1+(n-1)(1+(1+(n-1)(14))+2)\n",
        "\n",
        "1+(n-1)(1+(1+14n-14)+2)\n",
        "\n",
        "1+(n-1)(14n-11)\n",
        "\n",
        "1+(14n^2-11n-14n+11)\n",
        "\n",
        "14n^2-25n+12\n",
        "\n",
        "O(n^2)\n"
      ]
    },
    {
      "cell_type": "code",
      "metadata": {
        "id": "yXSwxtRRwT6A"
      },
      "source": [
        "#EJERCICIO 4\n",
        "int frec[101] = {0};\n",
        "for (int i = 0; i < n; i++) {\n",
        "frec[vec[i]]++;\n",
        "}\n",
        "int pos = 0;\n",
        "for (int i = 0; i < 101; i++) {\n",
        "for (int k = 0; k < frec[i]; k++) {\n",
        "vec[pos] = i;\n",
        "pos++;\n",
        "}\n",
        "}\n"
      ],
      "execution_count": null,
      "outputs": []
    },
    {
      "cell_type": "markdown",
      "metadata": {
        "id": "nonw3curwXmK"
      },
      "source": [
        "2da fila: 1 asignacion, 1 inicio=2\n",
        "\n",
        "1er for: 1+n(1+interna1+2)\n",
        "\n",
        "interna1: frec[vec[i]]=frec[vec[i]]+1\n",
        "\n",
        "1 operacion,2 accesos, 1 asignacion y 2 accesos\n",
        "\n",
        "1er for = 1+n(1+6+2) = 1+n(9)\n",
        "\n",
        "6ta fila: 1 asignacion\n",
        "\n",
        "2do for: 1+101(1+interna2+2)\n",
        "\n",
        "interna 2: for3: 1+ n(1+interna3+2)\n",
        "\n",
        "interna3: 1 asignacion y 1 acceso\n",
        "\n",
        "1 suma y 1 asignacion\n",
        "\n",
        "Total:\n",
        "\n",
        "2+(1+n(9))+1+1+101(1+1+n(1+2+2+2)+2)\n",
        "\n",
        "5+9n+101(4+7n)\n",
        "\n",
        "5+9n+404+707n\n",
        "\n",
        "716n+409\n",
        "\n",
        "O(n)"
      ]
    },
    {
      "cell_type": "code",
      "metadata": {
        "id": "qpG9pFJEyvo2"
      },
      "source": [
        "#EJERCICIO 5\n",
        "int i=0;\n",
        "int sum=0;\n",
        "while (i < 100) {\n",
        "if (i % 2 == 0) {\n",
        "for (int k = 0; k < n; k++) {\n",
        "sum += vec[i];\n",
        "}\n",
        "}\n",
        "else {\n",
        "for (int k=0; k<i; k++) {\n",
        "sum += vec[i];\n",
        "}\n",
        "}\n",
        "}"
      ],
      "execution_count": null,
      "outputs": []
    },
    {
      "cell_type": "markdown",
      "metadata": {
        "id": "D9n2NRpUy0nN"
      },
      "source": [
        "Este algoritmo no termina porque la i no se actualiza entonces la condicion del while se repetira por siempre\n",
        "\n"
      ]
    },
    {
      "cell_type": "code",
      "metadata": {
        "id": "TShEzTSq07TL"
      },
      "source": [
        "#EJERCICIO 6\n",
        "int fact = 1;\n",
        "for (int i = 2; i < n; i++) {\n",
        "fact *= i;\n",
        "}\n",
        "printf(\"Factorial: %d\", fact);\n"
      ],
      "execution_count": null,
      "outputs": []
    },
    {
      "cell_type": "markdown",
      "metadata": {
        "id": "NH3rrJtx1SLI"
      },
      "source": [
        "2da fila: 1, 1 asignacion\n",
        "\n",
        "for: 1+(n-2)(1+ interna + 2)\n",
        "\n",
        "interna: fact=fact*i -> 1 operacion y 1 asignacion = 2\n",
        "\n",
        "6ta fila: 1 imprime\n",
        "\n",
        "1+1+(n-2)(1+2+2)+1\n",
        "\n",
        "3+5n-10\n",
        "\n",
        "5n-7\n",
        "\n",
        "O(n)"
      ]
    },
    {
      "cell_type": "code",
      "metadata": {
        "id": "UOf9mJD22bhp"
      },
      "source": [
        "#EJERCICIO 7\n",
        "int pos = -1;\n",
        "for (int i = 0; i < n; i++) {\n",
        "if (strcmp(vec[i], cadBuscar) == 0) {\n",
        "pos = i;\n",
        "break;\n",
        "}\n",
        "}"
      ],
      "execution_count": null,
      "outputs": []
    },
    {
      "cell_type": "markdown",
      "metadata": {
        "id": "bJK2tGot2ig-"
      },
      "source": [
        "Constante por el break"
      ]
    },
    {
      "cell_type": "code",
      "metadata": {
        "id": "CAf_kBX86dTD"
      },
      "source": [
        "#EJERCICIO 8\n",
        "int pos = 0;\n",
        "for (int i = 1; i < n; i++) {\n",
        "if (vec[i] > vec[pos])\n",
        "pos = i;\n",
        "}\n",
        "printf(\"El mayor es: %d\", vec[pos]);\n"
      ],
      "execution_count": null,
      "outputs": []
    },
    {
      "cell_type": "markdown",
      "metadata": {
        "id": "IX7bFVr-6hTO"
      },
      "source": [
        "2da fila: 1 asignacion\n",
        "\n",
        "for: 1+(n-1)(1+ interna+2)\n",
        "\n",
        "interna: if: 2 accesos y 1 comparacion\n",
        "\n",
        "1 asignacion\n",
        "\n",
        "1 acceso y 1 impresion\n",
        "\n",
        "1+1+(n-1)(1+4+2)+2\n",
        "\n",
        "4+6n-6\n",
        "\n",
        "6n-2\n",
        "\n",
        "O(n)"
      ]
    },
    {
      "cell_type": "code",
      "metadata": {
        "id": "86ESW-M-7uVz"
      },
      "source": [
        "#EJERCICIO 9\n",
        "int max = 0;\n",
        "for (int m = 0; m < n; m++) {\n",
        "int cont = 0;\n",
        "int k = m + 1;\n",
        "while (vec[m] <= vec[k]) {\n",
        "k = k + 1;\n",
        "cont++;\n",
        "}\n",
        "if (cont > max)\n",
        "max = cont;\n",
        "}\n",
        "printf(\"Maximo %d\", max);"
      ],
      "execution_count": null,
      "outputs": []
    },
    {
      "cell_type": "markdown",
      "metadata": {
        "id": "inzdEMSK-XNg"
      },
      "source": [
        "2da fila: 1 asignacion\n",
        "\n",
        "for: 1+n(1+interna+2)\n",
        "\n",
        "4ta fila: 1 asignacion\n",
        "\n",
        "5ta fila: 1 operacion y 1 asignacion\n",
        "\n",
        "while: 2 accesos y 1 comparacion + 2 sumas y 2 asignaciones\n",
        "\n",
        "if: 1 comparacion y 1 asignacion\n",
        "\n",
        "1 impresion\n",
        "\n",
        "1+1+n(1+1+1+1+2+1+2+2+1+1+2)+1\n",
        "\n",
        "3+15(n)\n",
        "\n",
        "O(n)"
      ]
    },
    {
      "cell_type": "code",
      "metadata": {
        "id": "QoGscyEs_N4t"
      },
      "source": [
        "#EJERCICIO 10\n",
        "int i=1;\n",
        "while (i < n) {\n",
        "if (vec[i] % 2 == 0)\n",
        "i *= 3;\n",
        "else\n",
        "i *= 2;\n",
        "}\n"
      ],
      "execution_count": null,
      "outputs": []
    },
    {
      "cell_type": "markdown",
      "metadata": {
        "id": "qP4TQMVw_QWu"
      },
      "source": [
        "2da fila: 1 asignacion\n",
        "\n",
        "while: n(1+interno)\n",
        "\n",
        "if:1 comparacion, 1 operador 1 acceso\n",
        "\n",
        "1 operador 1 asignacion\n",
        "\n",
        "1 operador 1 asignacion\n",
        "\n",
        "1+n(1+3+2)\n",
        "\n",
        "1+6n\n",
        "\n",
        "O(n)"
      ]
    },
    {
      "cell_type": "code",
      "metadata": {
        "id": "VWp1_cSABSuS"
      },
      "source": [
        "#EJERCICIO 11\n",
        "int i=1;\n",
        "while (i < n) {\n",
        "if (vec[i] % 2 == 0)\n",
        "n = n / 3;\n",
        "else\n",
        "n = n / 2;\n",
        "}\n"
      ],
      "execution_count": null,
      "outputs": []
    },
    {
      "cell_type": "markdown",
      "metadata": {
        "id": "_TJIw-1rBUh7"
      },
      "source": [
        "2da fila: 1 asignacion\n",
        "\n",
        "while:n(1+interno)\n",
        "\n",
        "if: 1 comparacion 1 operacion 1 acceso\n",
        "\n",
        "5ta fila: 1 operacion 1 asignacion\n",
        "\n",
        "else: 1 operacion 1 asignacion\n",
        "\n",
        "1+n(1+3+2)\n",
        "\n",
        "1+6n\n",
        "\n",
        "O(n)"
      ]
    },
    {
      "cell_type": "code",
      "metadata": {
        "id": "gm_oDO8pBpmh"
      },
      "source": [
        "#EJERCICIO 12\n",
        "int inf = 0;\n",
        "int sup = n - 1;\n",
        "int pos = -1;\n",
        "while ((pos == -1) && (sup >= inf)) {\n",
        "int medio = (inf + sup) / 2;\n",
        "if (arreglo[medio] == 80)\n",
        "pos = medio;\n",
        "else if (arreglo[medio] < 80)\n",
        "inf = medio + 1;\n",
        "else\n",
        "sup = medio - 1;\n",
        "}"
      ],
      "execution_count": null,
      "outputs": []
    },
    {
      "cell_type": "markdown",
      "metadata": {
        "id": "272Sx22HBq-H"
      },
      "source": [
        "2da fila: 1 asignacion\n",
        "\n",
        "3ra fila: 1 operacion 1 asignacion\n",
        "\n",
        "4ta fila: 1 asignacion\n",
        "\n",
        "while: 2 comparaciones 1 && (n-1)\n",
        "\n",
        "6ta fila: 1 operacion 1 suma 1 asignacion 1 creacion\n",
        "\n",
        "if: 1 comparacion 1 acceso\n",
        "\n",
        "1 asignacion\n",
        "\n",
        "else if: 1 comparacion 1 acceso\n",
        "\n",
        "1 operacion 1 asignacion\n",
        "\n",
        "else: 1 operacion 1 asignacion\n",
        "\n",
        "4+(2+n-1)(4+2+2)\n",
        "\n",
        "4+16+8n-8\n",
        "\n",
        "8n+12\n",
        "\n",
        "O(n)"
      ]
    }
  ]
}