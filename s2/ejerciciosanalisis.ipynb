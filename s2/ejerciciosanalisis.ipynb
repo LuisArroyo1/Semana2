{
  "nbformat": 4,
  "nbformat_minor": 0,
  "metadata": {
    "colab": {
      "name": "ejerciciosanalisis.ipynb",
      "provenance": [],
      "authorship_tag": "ABX9TyOBxO3VFDgqQjBgX097PHn9",
      "include_colab_link": true
    },
    "kernelspec": {
      "name": "python3",
      "display_name": "Python 3"
    },
    "language_info": {
      "name": "python"
    }
  },
  "cells": [
    {
      "cell_type": "markdown",
      "metadata": {
        "id": "view-in-github",
        "colab_type": "text"
      },
      "source": [
        "<a href=\"https://colab.research.google.com/github/LuisArroyo1/Semana2/blob/main/s2/ejerciciosanalisis.ipynb\" target=\"_parent\"><img src=\"https://colab.research.google.com/assets/colab-badge.svg\" alt=\"Open In Colab\"/></a>"
      ]
    },
    {
      "cell_type": "code",
      "metadata": {
        "colab": {
          "base_uri": "https://localhost:8080/"
        },
        "id": "2usUVR5LmQT8",
        "outputId": "2856e0f6-086e-4c9a-9fca-38c30ff73f63"
      },
      "source": [
        "int s = 0;\n",
        "double prom = 0;\n",
        "for (int i = 0; i < n; i++) {\n",
        "s = s + A[i];\n",
        "prom = s / (double) n;\n",
        "}\n",
        "printf(\"Suma:%d\\nProm:%d\", s, prom);\n"
      ],
      "execution_count": 6,
      "outputs": [
        {
          "output_type": "stream",
          "text": [
            "Overwriting programa1.cpp\n"
          ],
          "name": "stdout"
        }
      ]
    },
    {
      "cell_type": "markdown",
      "metadata": {
        "id": "cbyFj_ZVnUQ0"
      },
      "source": [
        "1ra fila: 1, 1 asignacion\n",
        "2da fila: 1, 1 asignacion\n",
        "3ra fila: 1+n(1+ interna + 2)\n",
        "interna= 1 acceso a arreglo, 1 operacion y 1 asignacion = 3\n",
        "estructura for = 1+n(6)\n",
        "7ma fila: 2 variables a imprimir\n",
        "Total: 2+1+n(6)+2\n",
        "       5+6n\n",
        "       O(n)"
      ]
    }
  ]
}